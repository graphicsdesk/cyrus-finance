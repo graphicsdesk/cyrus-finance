{
 "cells": [
  {
   "cell_type": "code",
   "execution_count": 1,
   "metadata": {},
   "outputs": [],
   "source": [
    "import pandas as pd"
   ]
  },
  {
   "cell_type": "code",
   "execution_count": 77,
   "metadata": {},
   "outputs": [],
   "source": [
    "with open('ex.html') as f:\n",
    "    html = f.read().replace(\"<br>\", '\\n')\n",
    "    dfs = pd.read_html(html)"
   ]
  },
  {
   "cell_type": "code",
   "execution_count": 81,
   "metadata": {},
   "outputs": [],
   "source": [
    "df = dfs[0]"
   ]
  },
  {
   "cell_type": "code",
   "execution_count": 82,
   "metadata": {},
   "outputs": [
    {
     "data": {
      "text/html": [
       "<div>\n",
       "<style scoped>\n",
       "    .dataframe tbody tr th:only-of-type {\n",
       "        vertical-align: middle;\n",
       "    }\n",
       "\n",
       "    .dataframe tbody tr th {\n",
       "        vertical-align: top;\n",
       "    }\n",
       "\n",
       "    .dataframe thead th {\n",
       "        text-align: right;\n",
       "    }\n",
       "</style>\n",
       "<table border=\"1\" class=\"dataframe\">\n",
       "  <thead>\n",
       "    <tr style=\"text-align: right;\">\n",
       "      <th></th>\n",
       "      <th>Contributor</th>\n",
       "      <th>Amt</th>\n",
       "      <th>Contr. Date</th>\n",
       "      <th>Recipient</th>\n",
       "      <th>Report</th>\n",
       "      <th>Sched</th>\n",
       "      <th>Office</th>\n",
       "      <th>Dist</th>\n",
       "    </tr>\n",
       "  </thead>\n",
       "  <tbody>\n",
       "    <tr>\n",
       "      <th>0</th>\n",
       "      <td>1199 SEIU POLITICAL ACTION FUND 330 WEST 42ND ...</td>\n",
       "      <td>10000.0</td>\n",
       "      <td>01-OCT-09</td>\n",
       "      <td>CYRUS VANCE FOR MANHATTAN DISTRICT ATTORNEY</td>\n",
       "      <td>2009 11 Pre General</td>\n",
       "      <td>C</td>\n",
       "      <td>District Attorney</td>\n",
       "      <td>NaN</td>\n",
       "    </tr>\n",
       "    <tr>\n",
       "      <th>1</th>\n",
       "      <td>212 MANAGEMENT GROUP LLC 357 WEST BROADWAY NEW...</td>\n",
       "      <td>500.0</td>\n",
       "      <td>23-JUN-10</td>\n",
       "      <td>CYRUS VANCE FOR MANHATTAN DISTRICT ATTORNEY</td>\n",
       "      <td>2010 July Periodic</td>\n",
       "      <td>C</td>\n",
       "      <td>District Attorney</td>\n",
       "      <td>NaN</td>\n",
       "    </tr>\n",
       "    <tr>\n",
       "      <th>2</th>\n",
       "      <td>51 MERCER, LLC 51 MERCER ST NEW YORK, NY 10013</td>\n",
       "      <td>500.0</td>\n",
       "      <td>15-MAY-09</td>\n",
       "      <td>CYRUS VANCE FOR MANHATTAN DISTRICT ATTORNEY</td>\n",
       "      <td>2009 July Periodic</td>\n",
       "      <td>C</td>\n",
       "      <td>District Attorney</td>\n",
       "      <td>NaN</td>\n",
       "    </tr>\n",
       "    <tr>\n",
       "      <th>3</th>\n",
       "      <td>92ND REALTY LLC 1200 UNION TURNPIKE NEW HYDE P...</td>\n",
       "      <td>5000.0</td>\n",
       "      <td>16-SEP-09</td>\n",
       "      <td>CYRUS VANCE FOR MANHATTAN DISTRICT ATTORNEY</td>\n",
       "      <td>2009 10 Post Primary</td>\n",
       "      <td>C</td>\n",
       "      <td>District Attorney</td>\n",
       "      <td>NaN</td>\n",
       "    </tr>\n",
       "    <tr>\n",
       "      <th>4</th>\n",
       "      <td>ABILENE, INC. PO BOX 240607 BROOKLYN, NY 11224</td>\n",
       "      <td>500.0</td>\n",
       "      <td>29-MAY-13</td>\n",
       "      <td>CYRUS VANCE FOR MANHATTAN DISTRICT ATTORNEY</td>\n",
       "      <td>2013 July Periodic</td>\n",
       "      <td>B</td>\n",
       "      <td>District Attorney</td>\n",
       "      <td>NaN</td>\n",
       "    </tr>\n",
       "  </tbody>\n",
       "</table>\n",
       "</div>"
      ],
      "text/plain": [
       "                                         Contributor      Amt Contr. Date  \\\n",
       "0  1199 SEIU POLITICAL ACTION FUND 330 WEST 42ND ...  10000.0   01-OCT-09   \n",
       "1  212 MANAGEMENT GROUP LLC 357 WEST BROADWAY NEW...    500.0   23-JUN-10   \n",
       "2     51 MERCER, LLC 51 MERCER ST NEW YORK, NY 10013    500.0   15-MAY-09   \n",
       "3  92ND REALTY LLC 1200 UNION TURNPIKE NEW HYDE P...   5000.0   16-SEP-09   \n",
       "4     ABILENE, INC. PO BOX 240607 BROOKLYN, NY 11224    500.0   29-MAY-13   \n",
       "\n",
       "                                     Recipient                Report Sched  \\\n",
       "0  CYRUS VANCE FOR MANHATTAN DISTRICT ATTORNEY   2009 11 Pre General     C   \n",
       "1  CYRUS VANCE FOR MANHATTAN DISTRICT ATTORNEY    2010 July Periodic     C   \n",
       "2  CYRUS VANCE FOR MANHATTAN DISTRICT ATTORNEY    2009 July Periodic     C   \n",
       "3  CYRUS VANCE FOR MANHATTAN DISTRICT ATTORNEY  2009 10 Post Primary     C   \n",
       "4  CYRUS VANCE FOR MANHATTAN DISTRICT ATTORNEY    2013 July Periodic     B   \n",
       "\n",
       "              Office  Dist  \n",
       "0  District Attorney   NaN  \n",
       "1  District Attorney   NaN  \n",
       "2  District Attorney   NaN  \n",
       "3  District Attorney   NaN  \n",
       "4  District Attorney   NaN  "
      ]
     },
     "execution_count": 82,
     "metadata": {},
     "output_type": "execute_result"
    }
   ],
   "source": [
    "df.head()"
   ]
  }
 ],
 "metadata": {
  "kernelspec": {
   "display_name": "Python 3",
   "language": "python",
   "name": "python3"
  },
  "language_info": {
   "codemirror_mode": {
    "name": "ipython",
    "version": 3
   },
   "file_extension": ".py",
   "mimetype": "text/x-python",
   "name": "python",
   "nbconvert_exporter": "python",
   "pygments_lexer": "ipython3",
   "version": "3.7.0"
  }
 },
 "nbformat": 4,
 "nbformat_minor": 2
}
